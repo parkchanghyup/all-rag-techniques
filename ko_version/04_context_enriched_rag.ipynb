{
 "cells": [
  {
   "cell_type": "markdown",
   "metadata": {
    "vscode": {
     "languageId": "markdown"
    }
   },
   "source": [
    "# Context-Enriched Retrieval in RAG\n",
    "RAG(Retrieval-Augmented Generation, 검색 기반 생성)은 외부 지식에서 관련 정보를 찾아와 AI의 응답 품질을 높이는 방식입니다. 하지만 기존의 검색 방식은 서로 떨어진 텍스트 조각들만 가져오기 때문에, 답변이 불완전하거나 맥락이 끊길 수 있습니다.\n",
    "\n",
    "이 문제를 해결하기 위해, 문맥을 강화한 검색(Context-Enriched Retrieval) 방식을 소개합니다. 이 방법은 관련된 정보뿐만 아니라 주변 내용까지 함께 가져와 보다 자연스럽고 완성도 높은 답변을 가능하게 합니다.\n",
    "\n",
    "이 섹션에서는 다음과 같은 단계를 거칩니다.\n",
    "- 데이터 불러오기: PDF 파일에서 텍스트를 추출합니다.\n",
    "- 겹치는 구간으로 나누기: 문맥을 유지하기 위해 텍스트를 겹치는 조각들로 나눕니다.\n",
    "- 임베딩 생성: 텍스트 조각들을 숫자 벡터로 변환합니다.\n",
    "- 문맥 기반 검색: 관련된 텍스트와 그 주변 내용을 함께 검색합니다.\n",
    "- 응답 생성: 검색된 문맥을 바탕으로 언어 모델이 답변을 생성합니다.\n",
    "- 결과 평가: 생성된 답변의 정확도를 평가합니다."
   ]
  },
  {
   "cell_type": "markdown",
   "metadata": {},
   "source": [
    "## 환경 설정하기\n",
    "필요한 라이브러리를 가져오는 것부터 시작합니다."
   ]
  },
  {
   "cell_type": "code",
   "execution_count": 54,
   "metadata": {},
   "outputs": [],
   "source": [
    "import os\n",
    "import numpy as np\n",
    "from openai import OpenAI\n",
    "from dotenv import load_dotenv\n",
    "\n",
    "# .env 파일 로드\n",
    "load_dotenv()\n",
    "\n",
    "API_KEY = os.environ.get('OPENAI_API_KEY')"
   ]
  },
  {
   "cell_type": "markdown",
   "metadata": {},
   "source": [
    "# OpenAI API 클라이언트 설정하기"
   ]
  },
  {
   "cell_type": "code",
   "execution_count": null,
   "metadata": {},
   "outputs": [],
   "source": [
    "from openai import OpenAI\n",
    "\n",
    "client_openai = OpenAI(api_key = API_KEY)\n"
   ]
  },
  {
   "cell_type": "markdown",
   "metadata": {},
   "source": [
    "## PDF 파일에서 텍스트 추출하기"
   ]
  },
  {
   "cell_type": "code",
   "execution_count": null,
   "metadata": {},
   "outputs": [],
   "source": [
    "import google.generativeai as genai\n",
    "\n",
    "def extract_text_from_pdf(pdf_path):\n",
    "    # API 키 설정\n",
    "    genai.configure(api_key=gemini_API_KEY)\n",
    "    client = genai.GenerativeModel('gemini-2.0-flash-lite')\n",
    "\n",
    "    # PDF 파일 업로드\n",
    "    with open(pdf_path, \"rb\") as file:\n",
    "        file_data = file.read()\n",
    "\n",
    "\n",
    "    prompt = \"Extract all text from the provided PDF file.\"\n",
    "    response = client.generate_content([\n",
    "        {\"mime_type\": \"application/pdf\", \"data\": file_data},\n",
    "        prompt\n",
    "    ],generation_config={\n",
    "            \"max_output_tokens\": 8192  # 최대 출력 토큰 수 설정 (예: 8192 토큰, 약 24,000~32,000자)\n",
    "    })\n",
    "    return response.text"
   ]
  },
  {
   "cell_type": "code",
   "execution_count": 3,
   "metadata": {},
   "outputs": [
    {
     "name": "stdout",
     "output_type": "stream",
     "text": [
      "2023 핵심 개정세법\n",
      "01\n",
      "2024 달라지는 세금제도\n",
      "(국민·기업 납세자용)\n",
      "\n",
      "[유의사항]\n",
      "'2023 핵심 개정세법'은 국회에서 의결된 세법 개정사항을 모두 포괄하고 있으나, 시행령·\n",
      "시행규칙의 경우 2023.7월 발표한 ‘2023 세법개정안'을 중심으로 개정세법과 관련된 내용의\n",
      "경우 그대로 반영하였습니다. 그러므로 정부의 시행령, 시행규칙 개정 과정에서 일부 변동될\n",
      "수 있고 새로이 추가 제정될 수도 있습니다. 아울러 실무상 적용할 때는 반드시 개정세법의\n",
      "구체적인 조문을 확인하셔야 합니다.\n",
      "\n",
      "국민·기업 납세자용\n",
      "2024 달라지는 세금제도\n",
      "2024 달라지는 세금제도\n",
      "2023 세목별 핵심 개정세법\n",
      "2023 개정세법 현행-개정사항 비교\n",
      "01\n",
      "부동산 세금제도\n",
      "●(조특법) 연 단위 양도세 감면한도 악용방지를 위해 감면한도 산정방법 조정\n",
      "양도소득세 산정 및 감면이 연단위로 이뤄지는 점을 감안하여 ▲토지의 일부를\n",
      "양도한 날부터 소급하여 1년 내 토지를 분할한 경우 분필한 토지 또는 토지 지분\n",
      "\n"
     ]
    }
   ],
   "source": [
    "# 이미 text 파일로 저장되어 있다면 load_text_file 함수를 사용하면 됩니다.\n",
    "def load_text_file(pdf_path):\n",
    "\n",
    "    # text 파일 로드\n",
    "    with open(pdf_path, \"r\", encoding=\"utf-8\") as txt_file:\n",
    "        text = txt_file.read()\n",
    "\n",
    "    return text\n",
    "\n",
    "txt_path = \"./data_creation/pdf_data/(1) 2024 달라지는 세금제도.txt\"\n",
    "\n",
    "extracted_text = load_text_file(txt_path)\n",
    "print(extracted_text[:500])"
   ]
  },
  {
   "cell_type": "markdown",
   "metadata": {},
   "source": [
    "## 추출된 텍스트의 chunkibng\n",
    "추출된 텍스트를 얻은 후, 검색 정확성을 향상시키기 위해 이를 더 작고 겹치는 청크로 나눕니다."
   ]
  },
  {
   "cell_type": "code",
   "execution_count": 8,
   "metadata": {},
   "outputs": [],
   "source": [
    "def chunk_text(text, n, overlap):\n",
    "    \"\"\"\n",
    "    주어진 텍스트를 겹치는 n개의 문자 세그먼트로 청크합니다.\n",
    "\n",
    "    Args:\n",
    "    text (str): 청크할 텍스트입니다.\n",
    "    n (int): 각 청크의 문자 수입니다.\n",
    "    overlap (int): 청크 간 겹치는 문자 수입니다.\n",
    "\n",
    "    Returns:\n",
    "    List[str]: 청크된 텍스트 리스트입니다.\n",
    "    \"\"\"\n",
    "    chunks = []  # 청크된 텍스트를 저장할 빈 리스트를 초기화합니다.\n",
    "    \n",
    "    # (n - overlap) 단계로 텍스트를 반복합니다.\n",
    "    for i in range(0, len(text), n - overlap):\n",
    "        # 인덱스 i부터 i + n까지의 텍스트를 청크 리스트에 추가합니다.\n",
    "        chunks.append(text[i:i + n])\n",
    "\n",
    "    return chunks  "
   ]
  },
  {
   "cell_type": "markdown",
   "metadata": {},
   "source": [
    "## Extracting and Chunking Text from a PDF File\n",
    "Now, we load the PDF, extract text, and split it into chunks."
   ]
  },
  {
   "cell_type": "code",
   "execution_count": 9,
   "metadata": {},
   "outputs": [
    {
     "name": "stdout",
     "output_type": "stream",
     "text": [
      "Number of text chunks: 35\n",
      "\n",
      "First text chunk:\n",
      "2023 핵심 개정세법\n",
      "01\n",
      "2024 달라지는 세금제도\n",
      "(국민·기업 납세자용)\n",
      "\n",
      "[유의사항]\n",
      "'2023 핵심 개정세법'은 국회에서 의결된 세법 개정사항을 모두 포괄하고 있으나, 시행령·\n",
      "시행규칙의 경우 2023.7월 발표한 ‘2023 세법개정안'을 중심으로 개정세법과 관련된 내용의\n",
      "경우 그대로 반영하였습니다. 그러므로 정부의 시행령, 시행규칙 개정 과정에서 일부 변동될\n",
      "수 있고 새로이 추가 제정될 수도 있습니다. 아울러 실무상 적용할 때는 반드시 개정세법의\n",
      "구체적인 조문을 확인하셔야 합니다.\n",
      "\n",
      "국민·기업 납세자용\n",
      "2024 달라지는 세금제도\n",
      "2024 달라지는 세금제도\n",
      "2023 세목별 핵심 개정세법\n",
      "2023 개정세법 현행-개정사항 비교\n",
      "01\n",
      "부동산 세금제도\n",
      "●(조특법) 연 단위 양도세 감면한도 악용방지를 위해 감면한도 산정방법 조정\n",
      "양도소득세 산정 및 감면이 연단위로 이뤄지는 점을 감안하여 ▲토지의 일부를\n",
      "양도한 날부터 소급하여 1년 내 토지를 분할한 경우 분필한 토지 또는 토지 지분\n",
      "의 일부를 양도하거나 ▲ 토지(또는 지분) 일부를 양도하고 2년 내 나머지 토지를\n",
      "동일인이나 배우자에게 양도한 경우 1개 과세기간 내 양도한 것으로 보고 양도소\n",
      "득세 종합한도를 적용하도록 하여 조세회피를 막도록 했다.\n",
      "(2024.1.1. 이후 양도하는 분부터 적용)\n",
      "●(조특법) '기회발전특구'에 있는 주택 추가 취득시 1세대 1주택 양도세 비과세\n",
      "적용\n",
      "기회발전특구를 농어촌주택 특례 소재지에 포함하여 특구 내에서 주택을 추가로\n",
      "취득하여도 특구 내 주택 외 일반주택을 양도 시에는 특구 내 주택은 없는 것으로\n",
      "보고 1세대 1주택 양도소득세 비과세 특례 적용하는 혜택을 받을 수 있게 되었다.\n",
      "(2024.1.1. 이후 양도하는 분부터 적용)\n",
      "3\n",
      "\n",
      "한국세무사회\n",
      "02\n",
      "주식 세금제도\n",
      "●(소득세법) 배당소득 이중과세 조정을 위한 배당가산율 조정\n",
      "개인이 기업 등으로부터 배당금을 받아 종합과세되는 경우 배당소득 이중과세\n",
      "조정을 위해 배당가산액(Gross-up) 산정할 때 작년 과세표준 2억원 이하인 경\n"
     ]
    }
   ],
   "source": [
    "# 추출된 텍스트를 1000자 크기의 청크로 나눔(overlap 200)\n",
    "text_chunks = chunk_text(extracted_text, 1000, 200)\n",
    "\n",
    "# 청크 개수 출력\n",
    "print(\"Number of text chunks:\", len(text_chunks))\n",
    "\n",
    "# 첫 번째 청크 출력\n",
    "print(\"\\nFirst text chunk:\")\n",
    "print(text_chunks[0])"
   ]
  },
  {
   "cell_type": "markdown",
   "metadata": {},
   "source": [
    "## 임베딩 생성\n",
    "임베딩은 텍스트를 숫자 벡터로 변환하여 효율적인 유사도 검색을 가능하게 합니다."
   ]
  },
  {
   "cell_type": "code",
   "execution_count": 10,
   "metadata": {},
   "outputs": [
    {
     "name": "stdout",
     "output_type": "stream",
     "text": [
      "Using device: mps\n"
     ]
    }
   ],
   "source": [
    "import torch\n",
    "from sentence_transformers import SentenceTransformer\n",
    "def create_embeddings(embedding_model, texts, device='cuda', batch_size=16):\n",
    "    \"\"\"\n",
    "    SentenceTransformer 모델을 사용하여 지정된 텍스트에 대한 임베딩을 생성합니다.\n",
    "\n",
    "    Args:\n",
    "        embedding_model: 임베딩을 생성할 SentenceTransformer 모델입니다.\n",
    "        texts (list): 임베딩을 생성할 입력 텍스트 리스트입니다.\n",
    "        device (str): 모델을 실행할 장치 ('cuda' for GPU, 'cpu' for CPU).\n",
    "        batch_size (int): 인코딩을 위한 배치 크기입니다.\n",
    "\n",
    "    Returns:\n",
    "        np.ndarray: 모델에 의해 생성된 임베딩입니다.\n",
    "    \"\"\"\n",
    "    # 모델이 지정된 장치에 있는지 확인합니다.\n",
    "    embedding_model = embedding_model.to(device)\n",
    "    \n",
    "    # 지정된 배치 크기로 임베딩을 생성합니다.\n",
    "    embeddings = embedding_model.encode(\n",
    "        texts,\n",
    "        device=device,\n",
    "        batch_size=batch_size,  # 메모리 사용량을 줄이기 위해 더 작은 배치 크기를 사용합니다.\n",
    "        show_progress_bar=True  # 인코딩 진행 상태를 모니터링하기 위한 진행 표시줄을 표시합니다.\n",
    "    )\n",
    "    \n",
    "    return embeddings\n",
    "\n",
    "# GPU 사용 가능 여부를 확인합니다.\n",
    "device = 'cuda' if torch.cuda.is_available() else 'mps'\n",
    "print(f\"Using device: {device}\")\n",
    "\n",
    "# 모델을 로드합니다.\n",
    "model = \"BAAI/bge-m3\"\n",
    "embedding_model = SentenceTransformer(model)"
   ]
  },
  {
   "cell_type": "code",
   "execution_count": 34,
   "metadata": {},
   "outputs": [
    {
     "data": {
      "application/vnd.jupyter.widget-view+json": {
       "model_id": "c01c1cd0d11148f09788a5d00e218010",
       "version_major": 2,
       "version_minor": 0
      },
      "text/plain": [
       "Batches:   0%|          | 0/9 [00:00<?, ?it/s]"
      ]
     },
     "metadata": {},
     "output_type": "display_data"
    },
    {
     "name": "stdout",
     "output_type": "stream",
     "text": [
      "Generated 35 sentence embeddings.\n"
     ]
    }
   ],
   "source": [
    "# 배치 크기를 줄여 임베딩을 생성합니다.\n",
    "embeddings = create_embeddings(embedding_model, text_chunks, device=device, batch_size=4)\n",
    "\n",
    "print(f\"Generated {len(embeddings)} sentence embeddings.\")"
   ]
  },
  {
   "cell_type": "markdown",
   "metadata": {},
   "source": [
    "## Context-Aware Semantic Search 구현\n",
    "chunk와 인접한 청크를 포함하도록 수정\n"
   ]
  },
  {
   "cell_type": "code",
   "execution_count": 35,
   "metadata": {},
   "outputs": [],
   "source": [
    "def cosine_similarity(vec1, vec2):\n",
    "    \"\"\"\n",
    "    두 벡터 간의 코사인 유사도를 계산합니다.\n",
    "\n",
    "    Args:\n",
    "    vec1 (np.ndarray): 첫 번째 벡터입니다.\n",
    "    vec2 (np.ndarray): 두 번째 벡터입니다.\n",
    "\n",
    "    Returns:\n",
    "    float: 두 벡터 간의 코사인 유사도입니다.\n",
    "    \"\"\"\n",
    "    # 두 벡터의 내적을 계산하고 두 벡터의 크기의 곱으로 나눕니다.\n",
    "    return np.dot(vec1, vec2) / (np.linalg.norm(vec1) * np.linalg.norm(vec2))"
   ]
  },
  {
   "cell_type": "code",
   "execution_count": null,
   "metadata": {},
   "outputs": [],
   "source": [
    "def context_enriched_search(query, text_chunks, embeddings, k=1, context_size=1):\n",
    "    \"\"\"\n",
    "    가장 관련성이 높은 청크와 그 이웃 청크를 검색합니다.\n",
    "\n",
    "    Args:\n",
    "    query (str): 검색 쿼리.\n",
    "    text_chunks (List[str]): 텍스트 청크의 리스트.\n",
    "    embeddings (List[dict]): 청크 임베딩의 리스트.\n",
    "    k (int): 검색할 관련 청크의 수.\n",
    "    context_size (int): 포함할 이웃 청크의 수.\n",
    "\n",
    "    Returns:\n",
    "    List[str]: 문맥 정보를 포함한 관련 텍스트 청크.\n",
    "    \"\"\"\n",
    "    # 쿼리를 임베딩 벡터로 변환\n",
    "    query_embedding =  create_embeddings(embedding_model, [query], device=device)[0]\n",
    "    similarity_scores = []\n",
    "\n",
    "    # 쿼리와 각 텍스트 청크 임베딩 간의 유사도 점수 계산\n",
    "    for i, chunk_embedding in enumerate(embeddings):\n",
    "        # 쿼리 임베딩과 현재 청크 임베딩 간의 코사인 유사도 계산\n",
    "        similarity_score = cosine_similarity(np.array(query_embedding), np.array(chunk_embedding))\n",
    "        # 인덱스와 유사도 점수를 튜플로 저장\n",
    "        similarity_scores.append((i, similarity_score))\n",
    "\n",
    "\n",
    "    # 유사도 점수에 따라 청크를 내림차순으로 정렬 (가장 높은 유사도 우선)\n",
    "    similarity_scores.sort(key=lambda x: x[1], reverse=True)\n",
    "\n",
    "    # 가장 관련성이 높은 청크의 인덱스 가져오기\n",
    "    top_index = similarity_scores[0][0]\n",
    "\n",
    "    # 문맥 포함 범위 정의\n",
    "    # 0보다 작거나 text_chunks의 길이를 초과하지 않도록 보장\n",
    "    start = max(0, top_index - context_size)\n",
    "    end = min(len(text_chunks), top_index + context_size + 1)\n",
    "\n",
    "    # 관련 청크와 그 이웃 문맥 청크 반환\n",
    "    return [text_chunks[i] for i in range(start, end)]"
   ]
  },
  {
   "cell_type": "markdown",
   "metadata": {},
   "source": [
    "## 쿼리로 context 검색"
   ]
  },
  {
   "cell_type": "code",
   "execution_count": 37,
   "metadata": {},
   "outputs": [
    {
     "data": {
      "text/html": [
       "<div>\n",
       "<style scoped>\n",
       "    .dataframe tbody tr th:only-of-type {\n",
       "        vertical-align: middle;\n",
       "    }\n",
       "\n",
       "    .dataframe tbody tr th {\n",
       "        vertical-align: top;\n",
       "    }\n",
       "\n",
       "    .dataframe thead th {\n",
       "        text-align: right;\n",
       "    }\n",
       "</style>\n",
       "<table border=\"1\" class=\"dataframe\">\n",
       "  <thead>\n",
       "    <tr style=\"text-align: right;\">\n",
       "      <th></th>\n",
       "      <th>query</th>\n",
       "      <th>generation_gt</th>\n",
       "    </tr>\n",
       "  </thead>\n",
       "  <tbody>\n",
       "    <tr>\n",
       "      <th>0</th>\n",
       "      <td>피고의 고지의무 위반으로 인해 원고들이 입은 손해는 무엇으로 정의됩니까?</td>\n",
       "      <td>피고의 고지의무 위반으로 인해 원고들이 입은 손해는 \"이 사건 각 분양계약에 따른 ...</td>\n",
       "    </tr>\n",
       "    <tr>\n",
       "      <th>1</th>\n",
       "      <td>지방공무원법 제53조는 공무원이 직무와 관련하여 무엇을 주거나 받을 수 없다고 규정...</td>\n",
       "      <td>지방공무원법 제53조는 공무원이 직무와 관련하여 직접적이든 간접적이든 사례, 증여 ...</td>\n",
       "    </tr>\n",
       "    <tr>\n",
       "      <th>2</th>\n",
       "      <td>연금소득의 분리과세 기준금액은 얼마로 인상되었습니까?</td>\n",
       "      <td>연금소득의 분리과세 기준금액은 1천200만원에서 1천500만원으로 인상되었습니다.</td>\n",
       "    </tr>\n",
       "    <tr>\n",
       "      <th>3</th>\n",
       "      <td>공무원연금법 제65조 제1항 제1호에 의한 퇴직연금 등의 감액 요건은 무엇입니까?</td>\n",
       "      <td>공무원연금법 제65조 제1항 제1호에 의한 퇴직연금 등의 감액 요건은 재직 중 직무...</td>\n",
       "    </tr>\n",
       "    <tr>\n",
       "      <th>4</th>\n",
       "      <td>권리사용료 산출방법에 대한 고시는 언제 개정되었습니까?</td>\n",
       "      <td>권리사용료 산출방법에 대한 고시는 2021년 3월 30일에 개정되었습니다.</td>\n",
       "    </tr>\n",
       "  </tbody>\n",
       "</table>\n",
       "</div>"
      ],
      "text/plain": [
       "                                               query  \\\n",
       "0           피고의 고지의무 위반으로 인해 원고들이 입은 손해는 무엇으로 정의됩니까?   \n",
       "1  지방공무원법 제53조는 공무원이 직무와 관련하여 무엇을 주거나 받을 수 없다고 규정...   \n",
       "2                      연금소득의 분리과세 기준금액은 얼마로 인상되었습니까?   \n",
       "3      공무원연금법 제65조 제1항 제1호에 의한 퇴직연금 등의 감액 요건은 무엇입니까?   \n",
       "4                     권리사용료 산출방법에 대한 고시는 언제 개정되었습니까?   \n",
       "\n",
       "                                       generation_gt  \n",
       "0  피고의 고지의무 위반으로 인해 원고들이 입은 손해는 \"이 사건 각 분양계약에 따른 ...  \n",
       "1  지방공무원법 제53조는 공무원이 직무와 관련하여 직접적이든 간접적이든 사례, 증여 ...  \n",
       "2      연금소득의 분리과세 기준금액은 1천200만원에서 1천500만원으로 인상되었습니다.  \n",
       "3  공무원연금법 제65조 제1항 제1호에 의한 퇴직연금 등의 감액 요건은 재직 중 직무...  \n",
       "4          권리사용료 산출방법에 대한 고시는 2021년 3월 30일에 개정되었습니다.  "
      ]
     },
     "execution_count": 37,
     "metadata": {},
     "output_type": "execute_result"
    }
   ],
   "source": [
    "import pandas as pd\n",
    "# 평가 데이터 로드하기\n",
    "df = pd.read_csv('./data_creation/rag_val_new_post.csv')\n",
    "df.head()"
   ]
  },
  {
   "cell_type": "code",
   "execution_count": 38,
   "metadata": {},
   "outputs": [
    {
     "data": {
      "application/vnd.jupyter.widget-view+json": {
       "model_id": "70772b1766594458abf2de5bcb5d5659",
       "version_major": 2,
       "version_minor": 0
      },
      "text/plain": [
       "Batches:   0%|          | 0/1 [00:00<?, ?it/s]"
      ]
     },
     "metadata": {},
     "output_type": "display_data"
    },
    {
     "name": "stdout",
     "output_type": "stream",
     "text": [
      "14\n",
      "---\n",
      "13 16\n",
      "쿼리: 피고의 고지의무 위반으로 인해 원고들이 입은 손해는 무엇으로 정의됩니까?\n",
      "문맥 1:\n",
      "은 세율을 적용하였으나 120억원까지로 대폭 확대되었다. 다만 가\n",
      "업승계 목적의 증여 시 그 증여자 또는 수증자가 기업의 경영과 관련한 조세포탈\n",
      "또는 회계부정 행위로 처벌(증여일 10년전 ~ 증여후 5년 이내)을 받은 경우에는 과\n",
      "세특례 적용이 배제된다.\n",
      "(2024.1.1. 이후 증여분부터 적용)\n",
      "2023 핵심 개정세법\n",
      "14\n",
      "\n",
      "국민·기업 납세자용\n",
      "2024 달라지는 세금제도\n",
      "2023 세목별 핵심 개정세법\n",
      "2023 개정세법 현행-개정사항 비교\n",
      "06 기업경영 세금제도\n",
      "● (소득세법, 법인세법) 상용근로소득에 대한 간이지급명세서 2024년부터 매월 제\n",
      "출제도가 현재처럼 반기제출 유지(2년 유예) [구재이 회장 공약, 한국세무사회\n",
      "입법안]\n",
      "▲상용근로자에 대한 근로소득 간이지급명세서를 2024년 1월 1일부터 매월 제\n",
      "출하도록 작년 말 개정하였으나, 「소득기반 고용보험」시행 지연에 따라 시행시기\n",
      "를 2026년 1월 1일로 2년 유예했다. 이에 따라 상용근로소득 간이지급명세서는\n",
      "현재처럼 반기제출을 하면 된다. ▲상용근로소득 간이지급명세서 매월 제출시행이\n",
      "유예됨에 따라 지연제출가산세, 세액공제 신설규정의 시행도 2년 유예되었다.\n",
      "● (소득세법) 3.3% 사업소득은 소액부징수 대상에서 제외\n",
      "사업소득 원천징수 합리화를 위해 계속적, 반복적으로 행하는 활동을 통하여 얻\n",
      "는 인적용역 사업소득은 소액이더라도 예외 없이 원천징수하도록 하였다.\n",
      "(2024.7.1. 이후 지급하는 분부터 적용)\n",
      "● (소득세법, 법인세법) '외국인 통합계좌'에 의한 명의인 원천징수 제도 신설\n",
      "지급받는 개개의 외국인에게 원천징수를 하여야 하나, ‘외국인 통합계좌'(외국\n",
      "금융투자업자가 다른 외국투자자의 주식매매거래를 일괄해 주문·결제하기 위해 자\n",
      "기명의로 개설한 계좌)를 통해 투자시 소득지급자는 통합계좌 명의인에 대해 원천\n",
      "징수(조세조약에 따른 비과세, 면제, 제한세율 미적용)하며, 원천징수 이후 조세조\n",
      "약에 따른 비과세·면제·제한세율을 적용받고자 하는 실질귀속자 및 소득지급자는\n",
      "별도로 경정청구할 수 있다.\n",
      "(\n",
      "=====================================\n",
      "문맥 2:\n",
      "계좌'(외국\n",
      "금융투자업자가 다른 외국투자자의 주식매매거래를 일괄해 주문·결제하기 위해 자\n",
      "기명의로 개설한 계좌)를 통해 투자시 소득지급자는 통합계좌 명의인에 대해 원천\n",
      "징수(조세조약에 따른 비과세, 면제, 제한세율 미적용)하며, 원천징수 이후 조세조\n",
      "약에 따른 비과세·면제·제한세율을 적용받고자 하는 실질귀속자 및 소득지급자는\n",
      "별도로 경정청구할 수 있다.\n",
      "(2024.1.1. 이후 소득을 지급하는 분부터 적용)\n",
      "●(소득세법, 법인세법)비과세·면제 및 제한세율 경정청구 기한을 합리적 조정\n",
      "납세자 권익 보호를 위해 비거주자·외국법인에 대한 조세조약상 비과세·면제 경\n",
      "15\n",
      "\n",
      "한국세무사회\n",
      "정청구 기한이 원천징수된 날이 속하는 달의 말일부터 5년 이내였던 것을 원천징\n",
      "수세액 납부일의 다음 달 10일 이후부터 5년 이내 경정청구할 수 있도록 개선했다.\n",
      "● (소득세법 시행령) 임직원의 국외주식 기준 보상 거래내역 제출의무 부여\n",
      "내국법인이나 외국법인의 국내사업장의 임직원이 국외지배 주주인 외국법인으로부\n",
      "터 받은 주식기준 보상 등을 행사하거나 지급받을 경우 주식 기준보상 등을 행사하거\n",
      "나 지급받은 날이 속한 과세기간의 다음연도 3월 10일까지 거래내역을 제출해야 한다.\n",
      "●(법인세법) 연결모법인 합병 시 구분경리 예외적용 명확화\n",
      "연결모법인과 연결법인이 합병하는 경우 구분경리를 하여야 하지만, 합병대상이\n",
      "중소기업인 경우나 연결모법인이 동일사업을 하는 법인을 합병하는 경우 등 연결\n",
      "모법인 합병 시에는 구분경리를 생략할 수 있다.\n",
      "• (법인세법) 가상자산 거래내역 등의 제출기한 명확화\n",
      "가상자산 거래명세서의 분기별 제출시기는 분기 종료일의 다음 다음달 말일까지,\n",
      "연간 거래집계표 제출시기는 연도 종료일의 다음다음달 말일까지로 명시하였다.\n",
      "●(법인세법 시행령) 상환주식의 주식발행액면초과액의 자본전환 익금산입\n",
      "잉여금 중 회사의 이익으로 소각하기로 예정되어 있는 주식인 ‘상환주식의 주식\n",
      "발행액면초과액'을 자본전입하는 경우에도 익금산입한다.\n",
      "(시행령 시행일 이후 자본에 전입하는 분부터 적용)\n",
      "●(\n",
      "=====================================\n",
      "문맥 3:\n",
      "의 다음 다음달 말일까지,\n",
      "연간 거래집계표 제출시기는 연도 종료일의 다음다음달 말일까지로 명시하였다.\n",
      "●(법인세법 시행령) 상환주식의 주식발행액면초과액의 자본전환 익금산입\n",
      "잉여금 중 회사의 이익으로 소각하기로 예정되어 있는 주식인 ‘상환주식의 주식\n",
      "발행액면초과액'을 자본전입하는 경우에도 익금산입한다.\n",
      "(시행령 시행일 이후 자본에 전입하는 분부터 적용)\n",
      "●(부가가치세법) 전자적 용역 공급 간편사업자의 미등록 관련 제재 근거 마련\n",
      "전자적 용역을 공급하는 국외사업자가 사업의 개시일부터 20일 이내에 ‘간편사\n",
      "업자'등록하지 않은 경우, 사업개시일부터 등록한 날의 직전일까지 공급가액의\n",
      "1%를 가산세로 부과한다.\n",
      "(2024.1.1. 이후 재화나 용역을 공급하는 경우부터 적용)\n",
      "2023 핵심 개정세법\n",
      "16\n",
      "\n",
      "■ 국민·기업 납세자용\n",
      "2024 달라지는 세금제도\n",
      "2023 세목별 핵심 개정세법\n",
      "2023 개정세법 현행-개정사항 비교\n",
      "● (법인세법 시행령) 공익목적 기부금 손금산입을 위한 공익법인 지정 특례\n",
      "2021년부터 공익법인 지정방식이 변경에 따라 ▲ 2018년 2월 13일 이전에 인·\n",
      "허가 받은 학술연구·장학·기술진흥·문화·예술·환경보호운동단체와 ▲ 2018년 2월\n",
      "13일 이전에 「법인세법 시행규칙」 별표 6의2에 따라 지정된 단체가 공익법인으로\n",
      "계속 인정받기 위해서는 2023년 10월 10일까지 신청하여 12월 31일까지 지정고\n",
      "시받은 경우 2021년 이후 공익법인으로 인정하도록 했다.\n",
      "• (상속세 및 증여세법) 공익법인의 공익목적사업 지출 의무 위반에 대한 제재 합리화\n",
      "내국법인의 의결권 있는 발행주식총수의 5%를 초과하여 주식을 출연받은 공익\n",
      "법인으로서 출연재산총액의 1% 상당액 이상을 직접 공익목적사업에 사용하지 아\n",
      "니한 경우 종전에는 10%의 가산세와 증여세를 부과하였으나 증여세 부과 없이 가\n",
      "산세만 200%를 부과한다.\n",
      "[2024.1.1. 이후 개시하는 사업연도부터 적용하되, 2023 사업연도에 지출의무\n",
      "를 위반하면 (미달지출액의 10% 가산세 + 주식 5% 초과분 \n",
      "=====================================\n"
     ]
    }
   ],
   "source": [
    "# 평가 데이터에서 첫 번째 쿼리를 추출합니다.\n",
    "query = df['query'][0]\n",
    "\n",
    "# 가장 관련성이 높은 청크와 그 이웃 청크를 검색하여 문맥 제공\n",
    "# 매개변수:\n",
    "# - query: 검색할 질문\n",
    "# - text_chunks: PDF에서 추출한 텍스트 청크\n",
    "# - response.data: 텍스트 청크의 임베딩\n",
    "# - k=1: 가장 일치하는 항목 반환\n",
    "# - context_size=1: 문맥을 위해 가장 일치하는 항목 전후로 1개의 청크 포함\n",
    "top_chunks = context_enriched_search(query, text_chunks, embeddings, k=1, context_size=1)\n",
    "\n",
    "# 참조를 위해 쿼리 출력\n",
    "print(\"쿼리:\", query)\n",
    "# 각 검색된 청크를 제목과 구분선과 함께 출력\n",
    "for i, chunk in enumerate(top_chunks):\n",
    "    print(f\"문맥 {i + 1}:\\n{chunk}\\n=====================================\")"
   ]
  },
  {
   "cell_type": "markdown",
   "metadata": {},
   "source": [
    "## Generating a Response Using Retrieved Context\n",
    "We now generate a response using LLM."
   ]
  },
  {
   "cell_type": "code",
   "execution_count": 57,
   "metadata": {},
   "outputs": [],
   "source": [
    "\n",
    "\n",
    "def generate_response(system_prompt, user_message ,model_name='gpt-4.1-mini'):\n",
    "    \n",
    "    response = client_openai.chat.completions.create(\n",
    "        model=model_name,\n",
    "        messages=[\n",
    "            {\"role\": \"system\", \"content\": system_prompt},# Define the system prompt for the AI assistant\n",
    "            {\"role\": \"user\", \"content\": user_message}\n",
    "        ],\n",
    "        temperature=0.1,\n",
    "        top_p=0.9,\n",
    "        max_tokens=1024,\n",
    "    )\n",
    "    # print(response.choices[0].message.content)\n",
    "\n",
    "    return response\n",
    "\n",
    "# 검색된 청크를 기반으로 사용자 프롬프트를 생성합니다.\n",
    "user_prompt = \"\\n\".join([f\"Context {i + 1}:\\n{chunk}\\n=====================================\\n\" for i, chunk in enumerate(top_chunks)])\n",
    "user_prompt = f\"{user_prompt}\\nQuestion: {query}\"\n",
    "\n",
    "# AI 어시스턴트의 시스템 프롬프트를 정의합니다.\n",
    "system_prompt = \"당신은 제공된 Context에 기반하여 답변하는 AI 어시스턴트입니다. 답변이 컨텍스트에서 직접 도출될 수 없는 경우, 다음 문장을 사용하세요: '해당 질문에 답변할 충분한 정보가 없습니다.'\"\n",
    "\n",
    "# Generate AI response\n",
    "ai_response = generate_response(system_prompt, user_prompt,'gpt-4.1-nano-2025-04-14')"
   ]
  },
  {
   "cell_type": "code",
   "execution_count": 58,
   "metadata": {},
   "outputs": [
    {
     "name": "stdout",
     "output_type": "stream",
     "text": [
      "해당 질문에 답변할 충분한 정보가 없습니다. 제공된 컨텍스트에는 피고의 고지의무 위반으로 인해 원고들이 입은 손해에 대한 구체적인 내용이 포함되어 있지 않습니다.\n"
     ]
    }
   ],
   "source": [
    "print(ai_response.choices[0].message.content)"
   ]
  },
  {
   "cell_type": "markdown",
   "metadata": {},
   "source": [
    "## 생성 응답 평가하기\n",
    "생서 응답을 예상 답변과 비교하여 점수를 부여합니다."
   ]
  },
  {
   "cell_type": "code",
   "execution_count": 59,
   "metadata": {},
   "outputs": [
    {
     "name": "stdout",
     "output_type": "stream",
     "text": [
      "0\n"
     ]
    }
   ],
   "source": [
    "# 평가 시스템의 시스템 프롬프트를 정의합니다.\n",
    "evaluate_system_prompt = \"You are an intelligent evaluation system tasked with assessing the AI assistant's responses. If the AI assistant's response is very close to the true response, assign a score of 1. If the response is incorrect or unsatisfactory in relation to the true response, assign a score of 0. If the response is partially aligned with the true response, assign a score of 0.5.\"\n",
    "\n",
    "# 사용자 쿼리, AI 응답, 실제 응답, 평가 시스템 프롬프트를 결합하여 평가 프롬프트를 생성합니다.\n",
    "evaluation_prompt = f\"User Query: {query}\\nAI Response:\\n{ai_response.choices[0].message.content}\\nTrue Response: {df['generation_gt'][0]}\\n{evaluate_system_prompt}\"\n",
    "\n",
    "# 평가 시스템 프롬프트와 평가 프롬프트를 사용하여 평가 응답을 생성합니다.\n",
    "evaluation_response = generate_response(evaluate_system_prompt, evaluation_prompt,'gpt-4.1-mini')\n",
    "\n",
    "# 평가 응답을 출력합니다.\n",
    "print(evaluation_response.choices[0].message.content)"
   ]
  },
  {
   "cell_type": "markdown",
   "metadata": {},
   "source": [
    "# 전체 추론 평가"
   ]
  },
  {
   "cell_type": "code",
   "execution_count": null,
   "metadata": {},
   "outputs": [],
   "source": [
    "# 생성된 답변과 실제 답변을 비교하여 점수를 부여합니다.\n",
    "result = []\n",
    "\n",
    "for i in range(len(df)):\n",
    "    query = df['query'][i]\n",
    "    top_chunks = context_enriched_search(query, text_chunks, embeddings, k=1, context_size=1)\n",
    "\n",
    "    # 검색된 청크를 기반으로 사용자 프롬프트를 생성합니다.\n",
    "    user_prompt = \"\\n\".join([f\"Context {i + 1}:\\n{chunk}\\n=====================================\\n\" for i, chunk in enumerate(top_chunks)])\n",
    "    user_prompt = f\"{user_prompt}\\n질문: {query}\"\n",
    "\n",
    "    # AI 어시스턴트의 시스템 프롬프트를 정의합니다.\n",
    "    system_prompt = \"당신은 제공된 Context에 기반하여 답변하는 AI 어시스턴트입니다. 답변이 컨텍스트에서 직접 도출될 수 없는 경우, 다음 문장을 사용하세요: '해당 질문에 답변할 충분한 정보가 없습니다.'\"\n",
    "\n",
    "    # response 생성\n",
    "    ai_response = generate_response(system_prompt, user_prompt, 'gpt-4.1-mini')\n",
    "\n",
    "    print(ai_response.choices[0].message.content)\n",
    "\n",
    "    # 평가 프롬프트를 정의합니다.\n",
    "    evaluate_system_prompt = \"You are an intelligent evaluation system tasked with assessing the AI assistant's responses. If the AI assistant's response is very close to the true response, assign a score of 1. If the response is incorrect or unsatisfactory in relation to the true response, assign a score of 0. If the response is partially aligned with the true response, assign a score of 0.5. \\n The answer should only output numbers and should not output any words.\"\n",
    "\n",
    "    # 사용자 쿼리, AI response, 실제 응답, 평가 시스템 프롬프트를 결합하여 평가 프롬프트를 생성합니다.\n",
    "    evaluation_prompt = f\"User Query: {query}\\nAI Response:\\n{ai_response.choices[0].message.content}\\nTrue Response: {df['generation_gt'][i]}\\n{evaluate_system_prompt}\"\n",
    "\n",
    "    # 평가 응답 생성\n",
    "    evaluation_response = generate_response(evaluate_system_prompt, evaluation_prompt,'gpt-4.1-mini')\n",
    "\n",
    "    # 평가 응답을 출력합니다.\n",
    "    print(evaluation_response.choices[0].message.content)\n",
    "    result.append(evaluation_response.choices[0].message.content)"
   ]
  },
  {
   "cell_type": "code",
   "execution_count": 61,
   "metadata": {},
   "outputs": [],
   "source": [
    "import numpy as np\n",
    "result = [float(x.replace('\\n','').replace('Score: ',''))for x in result]\n"
   ]
  },
  {
   "cell_type": "code",
   "execution_count": 62,
   "metadata": {},
   "outputs": [
    {
     "data": {
      "text/plain": [
       "0.5666666666666667"
      ]
     },
     "execution_count": 62,
     "metadata": {},
     "output_type": "execute_result"
    }
   ],
   "source": [
    "np.average(result)"
   ]
  }
 ],
 "metadata": {
  "kernelspec": {
   "display_name": "base",
   "language": "python",
   "name": "python3"
  },
  "language_info": {
   "codemirror_mode": {
    "name": "ipython",
    "version": 3
   },
   "file_extension": ".py",
   "mimetype": "text/x-python",
   "name": "python",
   "nbconvert_exporter": "python",
   "pygments_lexer": "ipython3",
   "version": "3.12.7"
  }
 },
 "nbformat": 4,
 "nbformat_minor": 2
}
